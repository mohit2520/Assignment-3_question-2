{
 "cells": [
  {
   "cell_type": "code",
   "execution_count": 1,
   "id": "e092e60a",
   "metadata": {},
   "outputs": [
    {
     "name": "stdout",
     "output_type": "stream",
     "text": [
      "Enter the string : 1234abcd\n",
      "The original string is : 1234abcd\n",
      "The reversed string is : dcba4321\n"
     ]
    }
   ],
   "source": [
    "#Write a Python program to reverse a string.\n",
    "#Sample String : \"1234abcd\"\n",
    "#Expected Output : \"dcba4321\"\n",
    "\n",
    "def reverse(b):\n",
    "     n= b[::-1]\n",
    "     return n\n",
    "s=input(\"Enter the string : \")\n",
    "print(\"The original string is :\",str(s) )\n",
    "x=reverse(s)\n",
    "print(\"The reversed string is :\",str(x))"
   ]
  },
  {
   "cell_type": "code",
   "execution_count": null,
   "id": "b14db59d",
   "metadata": {},
   "outputs": [],
   "source": []
  }
 ],
 "metadata": {
  "kernelspec": {
   "display_name": "Python 3 (ipykernel)",
   "language": "python",
   "name": "python3"
  },
  "language_info": {
   "codemirror_mode": {
    "name": "ipython",
    "version": 3
   },
   "file_extension": ".py",
   "mimetype": "text/x-python",
   "name": "python",
   "nbconvert_exporter": "python",
   "pygments_lexer": "ipython3",
   "version": "3.9.12"
  }
 },
 "nbformat": 4,
 "nbformat_minor": 5
}
